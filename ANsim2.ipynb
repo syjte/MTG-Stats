{
 "cells": [
  {
   "cell_type": "code",
   "execution_count": 118,
   "metadata": {},
   "outputs": [],
   "source": [
    "import pandas as pd\n",
    "import numpy as np\n",
    "from scipy import stats\n",
    "import pylab as pl\n",
    "import matplotlib.patches as mpatches\n",
    "import requests\n",
    "import random\n",
    "from bs4 import BeautifulSoup as bs"
   ]
  },
  {
   "cell_type": "code",
   "execution_count": 209,
   "metadata": {
    "collapsed": true
   },
   "outputs": [],
   "source": [
    "url = 'http://tappedout.net/mtg-decks/zur-storm-2/'\n",
    "cmcurl = url + '?cat=cost&sort='\n",
    "typeurl = url + '?cat=type&sort='\n",
    "caturl = url +  '?cat=custom&sort='\n",
    "cmc = requests.get(cmcurl)\n",
    "types = requests.get(typeurl)\n",
    "cat = requests.get(caturl)\n",
    "cmcsoup = bs(cmc.text, 'html.parser')\n",
    "typesoup = bs(types.text, 'html.parser')\n",
    "catsoup = bs(cat.text, 'html.parser')\n",
    "cmccards = cmcsoup.find_all(\"a\", class_=\"qty board\")\n",
    "typecards = typesoup.find_all('a', class_='qty board')\n",
    "catcards = catsoup.find_all(\"a\", class_=\"qty board\")"
   ]
  },
  {
   "cell_type": "code",
   "execution_count": 211,
   "metadata": {
    "collapsed": true
   },
   "outputs": [],
   "source": [
    "cardattr = {};\n",
    "for item in cmccards:\n",
    "    if item['data-name'] not in cardattr.keys():\n",
    "        cardattr[item['data-name']] = [int(item['data-category'][0]), int(item['data-qty'])]\n",
    "for item in typecards:\n",
    "    cardattr[item['data-name']].append(item['data-category'])\n",
    "for item in catcards:\n",
    "    if len(item['data-category']) == 1:\n",
    "        cardattr[item['data-name']].append(int(item['data-category']))\n",
    "    else:\n",
    "        cardattr[item['data-name']].append(item['data-category'])"
   ]
  },
  {
   "cell_type": "code",
   "execution_count": 212,
   "metadata": {
    "collapsed": true
   },
   "outputs": [
    {
     "data": {
      "text/plain": [
       "{'Ad Nauseam': [5, 1, 'instant', 0],\n",
       " 'Aetherflux Reservoir': [4, 1, 'artifact', 0],\n",
       " 'Ancient Tomb': [0, 1, 'land', 0],\n",
       " \"Angel's Grace\": [1, 1, 'instant', 'combo'],\n",
       " 'Arid Mesa': [0, 1, 'land', 0],\n",
       " 'Azorius Signet': [2, 1, 'artifact', 6],\n",
       " 'Bloodstained Mire': [0, 1, 'land', 0],\n",
       " 'Brainstorm': [1, 1, 'instant', 'draw'],\n",
       " 'Cabal Ritual': [2, 1, 'instant', 3],\n",
       " 'Candelabra of Tawnos': [1, 1, 'artifact', 0],\n",
       " 'Chain of Vapor': [1, 1, 'instant', 0],\n",
       " 'Chrome Mox': [0, 1, 'artifact', 1],\n",
       " 'Command Tower': [0, 1, 'land', 0],\n",
       " 'Cyclonic Rift': [2, 1, 'instant', 0],\n",
       " 'Dark Confidant': [2, 1, 'creature', 0],\n",
       " 'Dark Ritual': [1, 1, 'instant', 2],\n",
       " 'Delay': [2, 1, 'instant', 'counter'],\n",
       " 'Demonic Tutor': [2, 1, 'sorcery', 'tutor'],\n",
       " 'Dimir Signet': [2, 1, 'artifact', 6],\n",
       " 'Dispel': [1, 1, 'instant', 'counter'],\n",
       " 'Dramatic Reversal': [2, 1, 'instant', 'combo'],\n",
       " 'Enlightened Tutor': [1, 1, 'instant', 'ttutor'],\n",
       " 'Etherium Sculptor': [2, 1, 'creature', 0],\n",
       " 'Fellwar Stone': [2, 1, 'artifact', 6],\n",
       " 'Flooded Strand': [0, 1, 'land', 0],\n",
       " 'Flusterstorm': [1, 1, 'instant', 'counter'],\n",
       " 'Force of Will': [5, 1, 'instant', 'counter'],\n",
       " 'Frantic Search': [3, 1, 'instant', 'draw'],\n",
       " 'Gitaxian Probe': [1, 1, 'sorcery', 'draw'],\n",
       " 'Grasp of Fate': [3, 1, 'enchantment', 0],\n",
       " 'Grim Monolith': [2, 1, 'artifact', 1],\n",
       " 'Hallowed Fountain': [0, 1, 'land', 0],\n",
       " 'Helm of Awakening': [2, 1, 'artifact', 0],\n",
       " 'High Tide': [1, 1, 'instant', 0],\n",
       " \"Hurkyl's Recall\": [2, 1, 'instant', 0],\n",
       " 'Imperial Seal': [1, 1, 'sorcery', 'ttutor'],\n",
       " 'Impulse': [2, 1, 'instant', 'draw'],\n",
       " 'Island': [0, 9, 'land', 0],\n",
       " 'Isochron Scepter': [2, 1, 'artifact', 'combo'],\n",
       " \"Jace, Vryn's Prodigy\": [2, 1, 'creature', 0],\n",
       " \"Lion's Eye Diamond\": [0, 1, 'artifact', 0],\n",
       " 'Lotus Petal': [0, 1, 'artifact', 1],\n",
       " 'Mana Crypt': [0, 1, 'artifact', 2],\n",
       " 'Mana Drain': [2, 1, 'instant', 'counter'],\n",
       " 'Mana Vault': [1, 1, 'artifact', 2],\n",
       " 'Marsh Flats': [0, 1, 'land', 0],\n",
       " 'Mental Misstep': [1, 1, 'instant', 'counter'],\n",
       " 'Merchant Scroll': [2, 1, 'sorcery', 0],\n",
       " 'Misty Rainforest': [0, 1, 'land', 0],\n",
       " 'Mox Diamond': [0, 1, 'artifact', 1],\n",
       " 'Mox Opal': [0, 1, 'artifact', 1],\n",
       " 'Mystical Tutor': [1, 1, 'instant', 'ttutor'],\n",
       " 'Necropotence': [3, 1, 'enchantment', 0],\n",
       " 'Negate': [2, 1, 'instant', 'counter'],\n",
       " \"Night's Whisper\": [2, 1, 'sorcery', 'draw'],\n",
       " 'Nihil Spellbomb': [1, 1, 'artifact', 'draw'],\n",
       " 'Orzhov Signet': [2, 1, 'artifact', 6],\n",
       " 'Pact of Negation': [0, 1, 'instant', 'counter'],\n",
       " 'Paradoxical Outcome': [4, 1, 'instant', 0],\n",
       " 'Polluted Delta': [0, 1, 'land', 0],\n",
       " 'Ponder': [1, 1, 'sorcery', 'draw'],\n",
       " 'Prairie Stream': [0, 1, 'land', 0],\n",
       " 'Preordain': [1, 1, 'sorcery', 'draw'],\n",
       " 'Quicken': [1, 1, 'instant', 'draw'],\n",
       " 'Retract': [1, 1, 'instant', 0],\n",
       " 'Scalding Tarn': [0, 1, 'land', 0],\n",
       " 'Scroll Rack': [2, 1, 'artifact', 'draw'],\n",
       " 'Scrubland': [0, 1, 'land', 0],\n",
       " \"Sensei's Divining Top\": [1, 1, 'artifact', 'draw'],\n",
       " 'Shimmer Myr': [3, 1, 'creature', 0],\n",
       " 'Silence': [1, 1, 'instant', 0],\n",
       " 'Snapcaster Mage': [2, 1, 'creature', 0],\n",
       " 'Sol Ring': [1, 1, 'artifact', 1],\n",
       " 'Spell Pierce': [1, 1, 'instant', 'counter'],\n",
       " 'Sunken Hollow': [0, 1, 'land', 0],\n",
       " 'Swan Song': [1, 1, 'instant', 'counter'],\n",
       " 'Swords to Plowshares': [1, 1, 'instant', 0],\n",
       " 'Talisman of Dominance': [2, 1, 'artifact', 0],\n",
       " 'Talisman of Progress': [2, 1, 'artifact', 0],\n",
       " 'Thirst for Knowledge': [3, 1, 'instant', 'draw'],\n",
       " 'Timetwister': [3, 1, 'sorcery', 0],\n",
       " 'Toxic Deluge': [3, 1, 'sorcery', 0],\n",
       " 'Tundra': [0, 1, 'land', 0],\n",
       " 'Underground Sea': [0, 1, 'land', 0],\n",
       " 'Urborg, Tomb of Yawgmoth': [0, 1, 'land', 0],\n",
       " 'Vampiric Tutor': [1, 1, 'instant', 'ttutor'],\n",
       " 'Verdant Catacombs': [0, 1, 'land', 0],\n",
       " 'Watery Grave': [0, 1, 'land', 0],\n",
       " 'Windfall': [3, 1, 'sorcery', 0],\n",
       " 'Windswept Heath': [0, 1, 'land', 0],\n",
       " \"Yawgmoth's Will\": [3, 1, 'sorcery', 'combo']}"
      ]
     },
     "execution_count": 212,
     "metadata": {},
     "output_type": "execute_result"
    }
   ],
   "source": [
    "cardattr"
   ]
  },
  {
   "cell_type": "code",
   "execution_count": 219,
   "metadata": {
    "collapsed": true
   },
   "outputs": [
    {
     "data": {
      "text/plain": [
       "['Ancient Tomb',\n",
       " 'Arid Mesa',\n",
       " 'Bloodstained Mire',\n",
       " 'Chrome Mox',\n",
       " 'Command Tower',\n",
       " 'Flooded Strand',\n",
       " 'Hallowed Fountain',\n",
       " 'Island',\n",
       " 'Island',\n",
       " 'Island',\n",
       " 'Island',\n",
       " 'Island',\n",
       " 'Island',\n",
       " 'Island',\n",
       " 'Island',\n",
       " 'Island',\n",
       " \"Lion's Eye Diamond\",\n",
       " 'Lotus Petal',\n",
       " 'Mana Crypt',\n",
       " 'Marsh Flats',\n",
       " 'Misty Rainforest',\n",
       " 'Mox Diamond',\n",
       " 'Mox Opal',\n",
       " 'Pact of Negation',\n",
       " 'Polluted Delta',\n",
       " 'Prairie Stream',\n",
       " 'Scalding Tarn',\n",
       " 'Scrubland',\n",
       " 'Sunken Hollow',\n",
       " 'Tundra',\n",
       " 'Underground Sea',\n",
       " 'Urborg, Tomb of Yawgmoth',\n",
       " 'Verdant Catacombs',\n",
       " 'Watery Grave',\n",
       " 'Windswept Heath',\n",
       " \"Angel's Grace\",\n",
       " 'Brainstorm',\n",
       " 'Candelabra of Tawnos',\n",
       " 'Chain of Vapor',\n",
       " 'Dark Ritual',\n",
       " 'Dispel',\n",
       " 'Enlightened Tutor',\n",
       " 'Flusterstorm',\n",
       " 'Gitaxian Probe',\n",
       " 'High Tide',\n",
       " 'Imperial Seal',\n",
       " 'Mana Vault',\n",
       " 'Mental Misstep',\n",
       " 'Mystical Tutor',\n",
       " 'Nihil Spellbomb',\n",
       " 'Ponder',\n",
       " 'Preordain',\n",
       " 'Quicken',\n",
       " 'Retract',\n",
       " \"Sensei's Divining Top\",\n",
       " 'Silence',\n",
       " 'Sol Ring',\n",
       " 'Spell Pierce',\n",
       " 'Swan Song',\n",
       " 'Swords to Plowshares',\n",
       " 'Vampiric Tutor',\n",
       " 'Azorius Signet',\n",
       " 'Cabal Ritual',\n",
       " 'Cyclonic Rift',\n",
       " 'Dark Confidant',\n",
       " 'Delay',\n",
       " 'Demonic Tutor',\n",
       " 'Dimir Signet',\n",
       " 'Dramatic Reversal',\n",
       " 'Etherium Sculptor',\n",
       " 'Fellwar Stone',\n",
       " 'Grim Monolith',\n",
       " 'Helm of Awakening',\n",
       " \"Hurkyl's Recall\",\n",
       " 'Impulse',\n",
       " 'Isochron Scepter',\n",
       " \"Jace, Vryn's Prodigy\",\n",
       " 'Mana Drain',\n",
       " 'Merchant Scroll',\n",
       " 'Negate',\n",
       " \"Night's Whisper\",\n",
       " 'Orzhov Signet',\n",
       " 'Scroll Rack',\n",
       " 'Snapcaster Mage',\n",
       " 'Talisman of Dominance',\n",
       " 'Talisman of Progress',\n",
       " 'Frantic Search',\n",
       " 'Grasp of Fate',\n",
       " 'Necropotence',\n",
       " 'Shimmer Myr',\n",
       " 'Thirst for Knowledge',\n",
       " 'Timetwister',\n",
       " 'Toxic Deluge',\n",
       " 'Windfall',\n",
       " \"Yawgmoth's Will\",\n",
       " 'Aetherflux Reservoir',\n",
       " 'Paradoxical Outcome',\n",
       " 'Ad Nauseam',\n",
       " 'Force of Will']"
      ]
     },
     "execution_count": 219,
     "metadata": {},
     "output_type": "execute_result"
    }
   ],
   "source": [
    "def makedeck(stat):\n",
    "    deck = [];\n",
    "    for i in stat.keys():\n",
    "        for x in range(stat[i][1]):\n",
    "            deck.append(i)\n",
    "    return deck\n",
    "\n",
    "makedeck(cardattr)"
   ]
  },
  {
   "cell_type": "code",
   "execution_count": 238,
   "metadata": {
    "collapsed": true
   },
   "outputs": [],
   "source": [
    "def iswin(hand, stat):\n",
    "    htype = [stat[i][3] for i in hand]\n",
    "    tut = htype.count('tutor')\n",
    "    com = htype.count('combo')\n",
    "    top = htype.count('ttutor')\n",
    "    draw = htype.count('draw')\n",
    "    coun = htype.count('counter')\n",
    "    mana = sum([x for x in htype if isinstance(x, int)])\n",
    "    if tut + com >= 2 and mana > 1 and coun > 0:\n",
    "        return True\n",
    "    elif top>0 and draw>0 and tut+com+top>=2 and mana > 1 and coun > 0:\n",
    "        return True\n",
    "    else:\n",
    "        return False"
   ]
  },
  {
   "cell_type": "code",
   "execution_count": 243,
   "metadata": {},
   "outputs": [
    {
     "data": {
      "text/plain": [
       "[['Flusterstorm',\n",
       "  'Mystical Tutor',\n",
       "  'Paradoxical Outcome',\n",
       "  'Dark Confidant',\n",
       "  'Prairie Stream',\n",
       "  'Island',\n",
       "  'Dark Ritual',\n",
       "  'Snapcaster Mage',\n",
       "  'Underground Sea',\n",
       "  'Frantic Search',\n",
       "  \"Jace, Vryn's Prodigy\",\n",
       "  'Scroll Rack',\n",
       "  'Retract',\n",
       "  'Urborg, Tomb of Yawgmoth',\n",
       "  'Dimir Signet',\n",
       "  'Isochron Scepter',\n",
       "  'Misty Rainforest',\n",
       "  'Mana Drain',\n",
       "  'Marsh Flats',\n",
       "  \"Night's Whisper\"],\n",
       " 2,\n",
       " 20,\n",
       " True]"
      ]
     },
     "execution_count": 243,
     "metadata": {},
     "output_type": "execute_result"
    }
   ],
   "source": [
    "def adnauseam(life, cards, stat):\n",
    "    deck = makedeck(stat)\n",
    "    hand = []\n",
    "    mana = 0\n",
    "    count = 0\n",
    "    random.shuffle(deck)\n",
    "    deck.remove('Ad Nauseam')\n",
    "    for draw in range(cards):\n",
    "        deck.pop();\n",
    "    while life > max([stat[i][0] for i in deck]):\n",
    "        card = deck.pop()\n",
    "        hand.append(card)\n",
    "        life -= stat[card][0]\n",
    "        if isinstance(stat[card][3], int) and stat[card][3] < 5:\n",
    "            mana += stat[card][3]\n",
    "        count += 1;\n",
    "    return [hand, mana, count, iswin(hand, stat)]\n",
    "\n",
    "adnauseam(30, 15, cardattr)"
   ]
  },
  {
   "cell_type": "code",
   "execution_count": 244,
   "metadata": {},
   "outputs": [],
   "source": [
    "def repeatan(n, life, cards, stat):\n",
    "    results = []\n",
    "    for i in range(n):\n",
    "        results.append(adnauseam(30, 15, cardattr))\n",
    "    return results"
   ]
  },
  {
   "cell_type": "code",
   "execution_count": 248,
   "metadata": {},
   "outputs": [
    {
     "data": {
      "text/plain": [
       "2603"
      ]
     },
     "execution_count": 248,
     "metadata": {},
     "output_type": "execute_result"
    }
   ],
   "source": [
    "test = repeatan(5000, 30, 15, cardattr)\n",
    "[i[3] for i in test].count(True)"
   ]
  },
  {
   "cell_type": "code",
   "execution_count": 223,
   "metadata": {},
   "outputs": [
    {
     "data": {
      "text/plain": [
       "2"
      ]
     },
     "execution_count": 223,
     "metadata": {},
     "output_type": "execute_result"
    }
   ],
   "source": [
    "b = [1,1,2,3,4,5]\n",
    "b.count(1)"
   ]
  },
  {
   "cell_type": "code",
   "execution_count": 93,
   "metadata": {
    "collapsed": true
   },
   "outputs": [
    {
     "data": {
      "text/plain": [
       "{'a': 6}"
      ]
     },
     "execution_count": 93,
     "metadata": {},
     "output_type": "execute_result"
    }
   ],
   "source": [
    "d = {}\n",
    "d['a'] = 5\n",
    "d['a'] = 6\n",
    "d"
   ]
  },
  {
   "cell_type": "code",
   "execution_count": 85,
   "metadata": {
    "collapsed": true
   },
   "outputs": [
    {
     "data": {
      "text/plain": [
       "<a class=\"qty board\" data-board=\"main\" data-category=\"0-drop\" data-ihash=\"4618396d46407f4cc9bc70681d59a5e0a6c1bebd\" data-name=\"Ancient Tomb\" data-orig=\"Ancient Tomb\" data-qty=\"1\" data-slug=\"ancient-tomb\" href=\"#\" id=\"board-4618396d46407f4cc9bc70681d59a5e0a6c1bebd\">1x</a>"
      ]
     },
     "execution_count": 85,
     "metadata": {},
     "output_type": "execute_result"
    }
   ],
   "source": [
    "cards[0]"
   ]
  },
  {
   "cell_type": "code",
   "execution_count": 97,
   "metadata": {
    "collapsed": true
   },
   "outputs": [
    {
     "data": {
      "text/plain": [
       "{'Ad Nauseam': [5, 1],\n",
       " 'Aetherflux Reservoir': [4, 1],\n",
       " 'Ancient Tomb': [0, 1],\n",
       " \"Angel's Grace\": [1, 1],\n",
       " 'Arid Mesa': [0, 1],\n",
       " 'Azorius Signet': [2, 1],\n",
       " 'Bloodstained Mire': [0, 1],\n",
       " 'Brainstorm': [1, 1],\n",
       " 'Cabal Ritual': [2, 1],\n",
       " 'Candelabra of Tawnos': [1, 1],\n",
       " 'Chain of Vapor': [1, 1],\n",
       " 'Chrome Mox': [0, 1],\n",
       " 'Command Tower': [0, 1],\n",
       " 'Cyclonic Rift': [2, 1],\n",
       " 'Dark Confidant': [2, 1],\n",
       " 'Dark Ritual': [1, 1],\n",
       " 'Delay': [2, 1],\n",
       " 'Demonic Tutor': [2, 1],\n",
       " 'Dimir Signet': [2, 1],\n",
       " 'Dispel': [1, 1],\n",
       " 'Dramatic Reversal': [2, 1],\n",
       " 'Enlightened Tutor': [1, 1],\n",
       " 'Etherium Sculptor': [2, 1],\n",
       " 'Fellwar Stone': [2, 1],\n",
       " 'Flooded Strand': [0, 1],\n",
       " 'Flusterstorm': [1, 1],\n",
       " 'Force of Will': [5, 1],\n",
       " 'Frantic Search': [3, 1],\n",
       " 'Gitaxian Probe': [1, 1],\n",
       " 'Grasp of Fate': [3, 1],\n",
       " 'Grim Monolith': [2, 1],\n",
       " 'Hallowed Fountain': [0, 1],\n",
       " 'Helm of Awakening': [2, 1],\n",
       " 'High Tide': [1, 1],\n",
       " \"Hurkyl's Recall\": [2, 1],\n",
       " 'Imperial Seal': [1, 1],\n",
       " 'Impulse': [2, 1],\n",
       " 'Island': [0, 9],\n",
       " 'Isochron Scepter': [2, 1],\n",
       " \"Jace, Vryn's Prodigy\": [2, 1],\n",
       " \"Lion's Eye Diamond\": [0, 1],\n",
       " 'Lotus Petal': [0, 1],\n",
       " 'Mana Crypt': [0, 1],\n",
       " 'Mana Drain': [2, 1],\n",
       " 'Mana Vault': [1, 1],\n",
       " 'Marsh Flats': [0, 1],\n",
       " 'Mental Misstep': [1, 1],\n",
       " 'Merchant Scroll': [2, 1],\n",
       " 'Misty Rainforest': [0, 1],\n",
       " 'Mox Diamond': [0, 1],\n",
       " 'Mox Opal': [0, 1],\n",
       " 'Mystical Tutor': [1, 1],\n",
       " 'Necropotence': [3, 1],\n",
       " 'Negate': [2, 1],\n",
       " \"Night's Whisper\": [2, 1],\n",
       " 'Nihil Spellbomb': [1, 1],\n",
       " 'Orzhov Signet': [2, 1],\n",
       " 'Pact of Negation': [0, 1],\n",
       " 'Paradoxical Outcome': [4, 1],\n",
       " 'Polluted Delta': [0, 1],\n",
       " 'Ponder': [1, 1],\n",
       " 'Prairie Stream': [0, 1],\n",
       " 'Preordain': [1, 1],\n",
       " 'Quicken': [1, 1],\n",
       " 'Retract': [1, 1],\n",
       " 'Scalding Tarn': [0, 1],\n",
       " 'Scroll Rack': [2, 1],\n",
       " 'Scrubland': [0, 1],\n",
       " \"Sensei's Divining Top\": [1, 1],\n",
       " 'Shimmer Myr': [3, 1],\n",
       " 'Silence': [1, 1],\n",
       " 'Snapcaster Mage': [2, 1],\n",
       " 'Sol Ring': [1, 1],\n",
       " 'Spell Pierce': [1, 1],\n",
       " 'Sunken Hollow': [0, 1],\n",
       " 'Swan Song': [1, 1],\n",
       " 'Swords to Plowshares': [1, 1],\n",
       " 'Talisman of Dominance': [2, 1],\n",
       " 'Talisman of Progress': [2, 1],\n",
       " 'Thirst for Knowledge': [3, 1],\n",
       " 'Timetwister': [3, 1],\n",
       " 'Toxic Deluge': [3, 1],\n",
       " 'Tundra': [0, 1],\n",
       " 'Underground Sea': [0, 1],\n",
       " 'Urborg, Tomb of Yawgmoth': [0, 1],\n",
       " 'Vampiric Tutor': [1, 1],\n",
       " 'Verdant Catacombs': [0, 1],\n",
       " 'Watery Grave': [0, 1],\n",
       " 'Windfall': [3, 1],\n",
       " 'Windswept Heath': [0, 1],\n",
       " \"Yawgmoth's Will\": [3, 1]}"
      ]
     },
     "execution_count": 97,
     "metadata": {},
     "output_type": "execute_result"
    }
   ],
   "source": [
    "cardattr"
   ]
  }
 ],
 "metadata": {
  "kernelspec": {
   "display_name": "Python 3",
   "language": "python",
   "name": "python3"
  },
  "language_info": {
   "codemirror_mode": {
    "name": "ipython",
    "version": 3
   },
   "file_extension": ".py",
   "mimetype": "text/x-python",
   "name": "python",
   "nbconvert_exporter": "python",
   "pygments_lexer": "ipython3",
   "version": "3.6.1"
  }
 },
 "nbformat": 4,
 "nbformat_minor": 2
}
